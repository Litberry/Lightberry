{
 "cells": [
  {
   "cell_type": "markdown",
   "metadata": {},
   "source": [
    "# CS82 - Introduction to Machine Learning\n",
    "\n",
    "## Homework 1\n",
    "\n",
    "\n",
    "### Submission\n",
    "\n",
    "email a completed copy of this notebook to danny@ktbyte.com with subject:\n",
    "`[CS82] HW1 - Student Name`\n",
    "\n",
    "## Description\n",
    "\n",
    "To complete this homework you will need to read:\n",
    "* [Handout 1](https://content.ktbyte.com/cs82/20sp/handout/1.html)\n",
    "* [Workshop 1](https://content.ktbyte.com/cs82/20sp/workshop/ws_1.ipynb)\n",
    "* [Handout 2](https://content.ktbyte.com/cs82/20sp/handout/2.html)\n",
    "\n",
    "**Tasks** are to be performed and their output saved\n",
    "**Questions** are to be answered and their output saved\n"
   ]
  },
  {
   "cell_type": "markdown",
   "metadata": {},
   "source": [
    "### TASK\n",
    "* Generate a list of 1000 random numbers. \n",
    "    * Print the first 10 numbers\n",
    "    * Print the last 10 number\n",
    "    * Add the two arrays of the first 10 and last 10 numbers together\n",
    "    * Multiply every element by 2\n",
    "    \n",
    "    \n",
    "**Tip**: Use numpy"
   ]
  },
  {
   "cell_type": "code",
   "execution_count": 7,
   "metadata": {},
   "outputs": [
    {
     "name": "stdout",
     "output_type": "stream",
     "text": [
      "[0.73702973 0.21096892 0.58280321 0.73163935 0.2564739  0.28174667\n",
      " 0.82459391 0.21881413 0.7928536  0.22910318]\n",
      "[0.87919476 0.95944891 0.48850117 0.69332144 0.98535035 0.22127252\n",
      " 0.154906   0.99697883 0.7606852  0.79191035]\n",
      "[1.6162245  1.17041783 1.07130439 1.42496079 1.24182424 0.50301919\n",
      " 0.97949991 1.21579296 1.5535388  1.02101353]\n",
      "[3.23244899 2.34083567 2.14260877 2.84992158 2.48364849 1.00603838\n",
      " 1.95899982 2.43158592 3.10707759 2.04202706]\n"
     ]
    }
   ],
   "source": [
    "import numpy as np\n",
    "a = np.random.rand(1000)\n",
    "b = a[:10]\n",
    "print(b)\n",
    "c = a[990:]\n",
    "print(c)\n",
    "d = b + c\n",
    "print(d)\n",
    "d *= 2\n",
    "print(d)"
   ]
  },
  {
   "cell_type": "markdown",
   "metadata": {},
   "source": [
    "### TASK\n",
    "* Generate your own Fibonacci Sequence function that each number is the sum of the previous 3 numbers. The first 3 numbers are randomly generated. We will call these **Your_Fibonacci** numbers.\n",
    "\n",
    "    $$\n",
    "    \\\\\n",
    "    F_0,F_1,F_2 = random\\\\\n",
    "    F_n=F_{n-1}+F_{n-2}+F_{n-3}\n",
    "    $$\n",
    "    \n",
    "* Print the 20th **Your_Fibonacci** Number\n",
    "* Create and print a list of the **Your_Fibonacci** numbers between 2 and 20\n",
    "\n",
    "Tip: Recursion is when we pass the same function into itself. Example:\n",
    "```python\n",
    "def func(a):\n",
    "    if(a==0):\n",
    "        return 0\n",
    "    else:\n",
    "        return a+1;\n",
    "        \n",
    "func(5)\n",
    "```\n"
   ]
  },
  {
   "cell_type": "code",
   "execution_count": 22,
   "metadata": {},
   "outputs": [
    {
     "name": "stdout",
     "output_type": "stream",
     "text": [
      "24848.587804542487\n",
      "[0.7637771196622398, 0.4688440247278127, 1.533465376770124, 2.7660865211601764, 4.7683959226581125, 9.067947820588413, 16.602430264406703, 30.438774007653226, 56.109152092648344, 103.15035636470827, 189.69828246500984, 348.9577909223664, 641.8064297520846, 1180.462503139461, 2171.226723813912, 3993.4956567054573, 7345.184883658831, 13509.9072641782, 24848.587804542487]\n"
     ]
    }
   ],
   "source": [
    "nums = [random.random(), random.random(), random.random()]\n",
    "def Your_Fibonacci(a):\n",
    "    if a <= len(nums): return nums[a-1]\n",
    "    else: \n",
    "        temp = Your_Fibonacci(a-1)+Your_Fibonacci(a-2)+Your_Fibonacci(a-3)\n",
    "#         temp = nums[a-1]+nums[a-2]+nums[a-3]\n",
    "        nums.append(temp)\n",
    "        return temp\n",
    "        \n",
    "\n",
    "print(Your_Fibonacci(20))\n",
    "print(nums[1:])"
   ]
  },
  {
   "cell_type": "markdown",
   "metadata": {},
   "source": [
    "### Question\n",
    "\n",
    "* What is Jupyter and what are its main advantages?"
   ]
  },
  {
   "cell_type": "markdown",
   "metadata": {},
   "source": [
    "Jupyter is a compiler which can interpret python and has cells. These cells are the main advantage of using Jupyter since they can be used to run code independent of each other and do certain actions within a particular order."
   ]
  },
  {
   "cell_type": "markdown",
   "metadata": {},
   "source": [
    "### Question\n",
    "\n",
    "* What do you do when your Virtual Machine gets stuck or is buggy?"
   ]
  },
  {
   "cell_type": "markdown",
   "metadata": {},
   "source": [
    "When the Virtual Machine gets buggy, you can do one of a few things\n",
    "1. Click on the black border around the window\n",
    "2. Refresh the page\n",
    "3. Close the browser try again\n",
    "4. Restart the whole machine using the stop button\n",
    "5. Ask for help from an instructor or TA"
   ]
  },
  {
   "cell_type": "markdown",
   "metadata": {},
   "source": [
    "### Question\n",
    "\n",
    "* What is the terminal and what can it be used for?"
   ]
  },
  {
   "cell_type": "markdown",
   "metadata": {},
   "source": [
    "The terminal is a hyper efficient way to execute commands on a computer and can manipulate files, programs, directories, and datasets much faster than any other graphical interface."
   ]
  },
  {
   "cell_type": "markdown",
   "metadata": {},
   "source": [
    "### Question\n",
    "\n",
    "* How to uncompress a file in the terminal?"
   ]
  },
  {
   "cell_type": "markdown",
   "metadata": {},
   "source": [
    "To uncompress a file in the terminal, you can do the command:\n",
    "unzip file_name.zip"
   ]
  },
  {
   "cell_type": "markdown",
   "metadata": {},
   "source": [
    "### Question\n",
    "\n",
    "* How to execute Terminal commands in Jupyter?"
   ]
  },
  {
   "cell_type": "markdown",
   "metadata": {},
   "source": [
    "In Jupyter you may use the terminal commands with certain syntax such as: !wget and other lines. Note that the ! is required in a command."
   ]
  },
  {
   "cell_type": "markdown",
   "metadata": {},
   "source": [
    "### Question\n",
    "\n",
    "* What is the difference between tupples and lists?"
   ]
  },
  {
   "cell_type": "markdown",
   "metadata": {},
   "source": [
    "Tupples are immutable meaning that they cannot be changed after their creation (i.e. changing size, data, and order), however lists do have the ability to be modified."
   ]
  },
  {
   "cell_type": "markdown",
   "metadata": {},
   "source": [
    "### Question\n",
    "\n",
    "* What is the iris dataset?\n",
    "\n",
    "**Tip** you might have to read Handout 2"
   ]
  },
  {
   "cell_type": "markdown",
   "metadata": {},
   "source": [
    "The iris dataset describes various characteristics ranging from petal width to species of iris flowers."
   ]
  },
  {
   "cell_type": "markdown",
   "metadata": {},
   "source": [
    "### Question\n",
    "\n",
    "* What are some websites you can find datasets?\n",
    "\n"
   ]
  },
  {
   "cell_type": "markdown",
   "metadata": {},
   "source": [
    "https://archive.ics.uci.edu/ml/datasets.html\n",
    "https://www.kaggle.com/datasets\n",
    "https://toolbox.google.com/datasetsearch\n",
    "https://data.gov"
   ]
  },
  {
   "cell_type": "markdown",
   "metadata": {},
   "source": [
    "### Question\n",
    "\n",
    "* What is an attribute of a dataset? \n",
    "* What other name do we use for an attribute?"
   ]
  },
  {
   "cell_type": "markdown",
   "metadata": {},
   "source": [
    "An attribute of a dataset decribes each individual characteristic of a dataset pertaining to each object/case. Another name for an attribute is a column. Attributes can be anything from images to text."
   ]
  },
  {
   "cell_type": "markdown",
   "metadata": {},
   "source": [
    "### Question\n",
    "\n",
    "* What datasets are we going to look at Handout 2?"
   ]
  },
  {
   "cell_type": "markdown",
   "metadata": {},
   "source": [
    "We are going to look at iris datasets and population by countries."
   ]
  },
  {
   "cell_type": "code",
   "execution_count": null,
   "metadata": {},
   "outputs": [],
   "source": []
  }
 ],
 "metadata": {
  "kernelspec": {
   "display_name": "Python 3",
   "language": "python",
   "name": "python3"
  },
  "language_info": {
   "codemirror_mode": {
    "name": "ipython",
    "version": 3
   },
   "file_extension": ".py",
   "mimetype": "text/x-python",
   "name": "python",
   "nbconvert_exporter": "python",
   "pygments_lexer": "ipython3",
   "version": "3.6.8"
  }
 },
 "nbformat": 4,
 "nbformat_minor": 2
}
