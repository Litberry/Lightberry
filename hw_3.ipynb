{
 "cells": [
  {
   "cell_type": "markdown",
   "metadata": {},
   "source": [
    "# CS82 - Introduction to Machine Learning\n",
    "\n",
    "## Homework 3\n",
    "\n",
    "\n",
    "### Submission\n",
    "\n",
    "email a completed copy of this notebook to danny@ktbyte.com with subject:\n",
    "`[CS82] HW3 - Student Name`\n",
    "\n",
    "## Description\n",
    "\n",
    "To complete this homework you will need to read:\n",
    "* [Handout 3](https://content.ktbyte.com/cs82/20sp/handout/3.html)\n",
    "* [Workshop 3](https://content.ktbyte.com/cs82/20sp/workshop/ws_3.ipynb)\n",
    "* [Handout 4](https://content.ktbyte.com/cs82/20sp/handout/4.html)\n",
    "\n",
    "**Tasks** are to be performed and their output saved\n",
    "**Questions** are to be answered and their output saved\n"
   ]
  },
  {
   "cell_type": "markdown",
   "metadata": {},
   "source": [
    "### TASK\n",
    "\n",
    "Create three functions, with the following restrictions. Must **NOT** use numpy. Input will be python lists. The lists can contain numbers, strings, or other unspecified types. You must check and handle for as many cases as you can think of (including dimension mismatch). Functions must work as close to numpy version as possible. \n",
    "\n",
    "* `def dot(x,y)` calculates the dot product between any two given vectors\n",
    "* `def cross(x,y)` calculates the cross product between any two given vectors\n",
    "* `def matmul(x,y)` calculates the matrix multiplication product between any two given matrices\n",
    "* `def transpose(x)` calculates the transpose of a matrix\n"
   ]
  },
  {
   "cell_type": "code",
   "execution_count": 7,
   "metadata": {},
   "outputs": [],
   "source": [
    "def dot(x,y):\n",
    "    if len(x) != len(y): return 'Error!'\n",
    "    sum = 0\n",
    "    for i in range(len(x)):\n",
    "        sum += x[i] * y[i]\n",
    "    return sum\n",
    "        \n",
    "def cross(x,y):\n",
    "    if len(x) != 3 or len(y) != 3: return 'Error!'\n",
    "    one = x[1]*y[2] - x[2]*y[1]\n",
    "    two = x[2]*y[0] - x[0]*y[2]\n",
    "    three = x[0]*y[1] - x[1]*y[0]\n",
    "    return list(one,two,three)\n",
    "    \n",
    "def matmul(x,y):\n",
    "    if len(x[0]) != len(y): return 'Error!'\n",
    "    mat = []\n",
    "    for i in range(len(y[0])):\n",
    "        sum = 0\n",
    "        for j in range(len(x)):\n",
    "            sum += x[j] * y[j][i]\n",
    "        mat.append(sum)\n",
    "    return mat\n",
    "    \n",
    "def transpose(x):\n",
    "    return list(zip(*x))\n",
    "    "
   ]
  },
  {
   "cell_type": "markdown",
   "metadata": {},
   "source": [
    "### Question\n",
    "\n",
    "What edge cases did you consider for your input and how did you handle malformed data?"
   ]
  },
  {
   "cell_type": "markdown",
   "metadata": {},
   "source": [
    "**Answer**\n",
    "For cross product I pad 3 zeros at the end of the array and clip it to be of size 3. That is because cross product is only defined for 3 dimensional space. Larger vectors will be clipped. \n",
    "\n",
    "For dot product I check if the vector shapes match, if they don't I return None\n",
    "\n",
    "For matrix multiplication I check to see if the dimensions match the definition of matrix multiplication"
   ]
  },
  {
   "cell_type": "markdown",
   "metadata": {},
   "source": [
    "### TASK\n",
    "\n",
    "Create a function that calculates the conditional probability $P(A|A+B<M)$, for the roll of two die A and B. That is the probability of rolling a total of less than N given the value of A.\n",
    "\n",
    "We are given as input the matrix of the sample space for 2 N-Face die (each dice has N faces where N is the size of the matrix). Each entry in the matrix is the result of adding the outcome from dice A and B. The input to the function is the value of the first dice A and the value of M as well as the sample space.\n",
    "\n",
    "**Conditions**\n",
    "The index of the sample space matrix signifies the value of A or B. There will be no missing indexes. The values of A and B will then range from 1 to N (however you need to account for 0 indexing)\n",
    "\n",
    "**Example** \n",
    "\n",
    "Example of a sample space for rolling 2 die that each has 6-faces.\n",
    "\n",
    "$$\n",
    "\\begin{bmatrix}\n",
    "\t 2\t& 3\t& 4\t& 5\t& 6\t& 7 \\\\\n",
    "\t 3\t& 4\t& 5\t& 6\t& 7\t& 8 \\\\\n",
    "\t 4\t& 5\t& 6\t& 7\t& 8\t& 9 \\\\\n",
    "\t 5\t& 6\t& 7\t& 8\t& 9\t& 10 \\\\\n",
    "\t 6\t& 7\t& 8\t& 9\t& 10\t& 11 \\\\\n",
    "\t 7\t& 8\t& 9\t& 10\t& 11\t& 12\\\\\n",
    "\\end{bmatrix}\n",
    "$$\n",
    "\n",
    "To make it easier I have created a function that generates a sample space for two N-faced die\n",
    "\n",
    "```python\n",
    "def generate_matrix(N=6):\n",
    "    import numpy as np\n",
    "    A=np.array([list(range(1,N+1))]*N)\n",
    "    B=np.array([list(range(1,N+1))]*N)\n",
    "    return A+B.transpose()\n",
    "```\n",
    "\n",
    "The function above generates the outcomes of a single dice, converts them into a matrix such that outcomes are 1 through N for each row. \n",
    "\n",
    "It then adds the transpose of a copy of the same matrix (since one dice is in the columns and another in the rows a transpose inverts rows with columns).\n",
    "\n",
    "Please print and examine the above function to make sure you understand the logic behind it."
   ]
  },
  {
   "cell_type": "code",
   "execution_count": 11,
   "metadata": {},
   "outputs": [
    {
     "name": "stdout",
     "output_type": "stream",
     "text": [
      "[2 3 4 5 6 7]\n",
      "[3 4 5 6 7 8]\n",
      "[4 5 6 7 8 9]\n",
      "[ 5  6  7  8  9 10]\n",
      "[ 6  7  8  9 10 11]\n",
      "[ 7  8  9 10 11 12]\n"
     ]
    }
   ],
   "source": [
    "def generate_matrix(N=6):\n",
    "    import numpy as np\n",
    "    A=np.array([list(range(1,N+1))]*N)\n",
    "    B=np.array([list(range(1,N+1))]*N)\n",
    "    return A+B.transpose()\n",
    "\n",
    "obj = generate_matrix()\n",
    "\n",
    "for i in obj:\n",
    "    print(i)"
   ]
  },
  {
   "cell_type": "markdown",
   "metadata": {},
   "source": [
    "### TASK\n",
    "\n",
    "Create a function that calculates the derivative of a polynomial. The input to that function are two vectors, the coefficients of a polynomial and the power of each term on that polynomial. The output should be the coefficients and powers of the derivative function.\n",
    "\n",
    "**Definition**\n",
    "\n",
    "A polynomial is a function of the form $f(x)=m_1x^{p_1}+\\dots+m_nx^{p_n}$\n",
    "\n",
    "* $m_1$ through $m_n$ are the coefficients of the polynomial\n",
    "\n",
    "* $p_1$ throught $p_n$ is the power of the polynomial.\n",
    "\n",
    "**Conditions**\n",
    "\n",
    "For our problem we can't have values of repeating powers. But we can have values of repeating coefficients. A term can also be 0, that is when the coefficient is 0. A term can also be a constant that is when the power is of 0, the value of that constant will then be the value of the coefficient. All power coefficients are positive or 0.\n",
    "\n",
    "**Example**\n",
    "\n",
    "m vector\n",
    "```\n",
    "m=[0,100,2,38,3]\n",
    "```\n",
    "p vector\n",
    "```\n",
    "p=[2,100,4,5,0]\n",
    "```\n",
    "is the resulting polynomial\n",
    "$$\n",
    " f(x)=0 x^{2}+100x^{100}+2x^4+38x^5+3x^0=3+100x^{100}+2x^4+38x^5\n",
    "$$\n",
    "\n",
    "The derivative is then\n",
    "\n",
    "$$\n",
    "f'(x)=10000x^{99}+8x^3+190x^4\n",
    "$$\n",
    "\n",
    "**Do not use any library to calculate the derivative**\n",
    "\n",
    "### Optional\n",
    "\n",
    "Calculate the minima and maxima for the derivative function.\n",
    "\n",
    "**Tip** You can find the minima/maxima graphically by providing a range of values to the derivative polynomial you calculated and seeing where it is close to 0. e.g. 0.0001 Try with simple examples such as $x^2$"
   ]
  },
  {
   "cell_type": "code",
   "execution_count": 15,
   "metadata": {},
   "outputs": [
    {
     "name": "stdout",
     "output_type": "stream",
     "text": [
      "([10000, 8, 190], [99, 3, 4])\n"
     ]
    }
   ],
   "source": [
    "def deriv(x,y):\n",
    "    coef = []\n",
    "    pow = []\n",
    "    for i in range(len(x)):\n",
    "        if x[i] == 0 or y[i] == 0: continue\n",
    "        coef.append(x[i] * y[i])\n",
    "        pow.append(y[i] - 1)\n",
    "        \n",
    "    return (coef, pow)\n",
    "\n",
    "print(deriv([0,100,2,38,3], [2,100,4,5,0]))"
   ]
  },
  {
   "cell_type": "code",
   "execution_count": null,
   "metadata": {},
   "outputs": [],
   "source": []
  }
 ],
 "metadata": {
  "kernelspec": {
   "display_name": "Python 3",
   "language": "python",
   "name": "python3"
  },
  "language_info": {
   "codemirror_mode": {
    "name": "ipython",
    "version": 3
   },
   "file_extension": ".py",
   "mimetype": "text/x-python",
   "name": "python",
   "nbconvert_exporter": "python",
   "pygments_lexer": "ipython3",
   "version": "3.6.8"
  }
 },
 "nbformat": 4,
 "nbformat_minor": 2
}
